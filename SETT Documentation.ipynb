{
 "cells": [
  {
   "cell_type": "markdown",
   "metadata": {},
   "source": [
    "# Setup"
   ]
  },
  {
   "cell_type": "markdown",
   "metadata": {},
   "source": [
    "The SETT repository is available to clone at: https://github.com/mlfilms/SETT.git\n",
    "* Once in the desired directory run `git clone https://github.com/mlfilms/SETT.git`\n",
    "\n",
    "SETT is organized into several submodules, each of which can be used independently from the others. When SETT is first cloned, each submodule will only be represented by an empty folder. \n",
    "* In order to retrieve the contents of each submodule, run `git submodule update --init --recursive`\n",
    "* Future pulls can be done using `git pull --recurse-submodules`\n",
    "\n",
    "To install the necessary requirements:\n",
    "* Open any CLI in the root of the SETT repoistory and run `pip install -r requirements.txt`\n",
    "* If you do not have pip, follow the instructions at https://pip.pypa.io/en/stable/installing/\n",
    "\n",
    "\n",
    "\n",
    "**You will need to download mAP (mean Average Precission) for the validation of data: https://github.com/Cartucho/mAP**\n",
    "\n",
    "\n",
    "### Darkflow\n",
    "\n",
    "Darkflow has its own setup that needs to be run inside the main darkflow folder. Choose one of three options listed below (the first option is recommended, however all three will work):\n",
    "* Just build the Cython extensions in place. NOTE: If installing this way you will have to use ./flow in the cloned darkflow directory instead of flow as darkflow is not installed globally. `python setup.py build_ext --inplace`\n",
    "* Let pip install darkflow globally in dev mode (still globally accessible, but changes to the code immediately take effect) `pip install -e`\n",
    "* Install with pip globally  `pip install .`\n",
    "\n",
    "    \n",
    "\n",
    "\n"
   ]
  },
  {
   "cell_type": "markdown",
   "metadata": {},
   "source": [
    "# Usage\n",
    "\n",
    "SETT is run by feeding .yml config files to overlord.py using `python overlord.py config.yml`\n",
    "\n",
    "The default config.yml file shows what layout the config files should have. Groups of .yml files can also be run through SETT to run a series of jobs. This is also done be running a .yml file to overlord.py, similar to executing a single config file. `python overlord.py jobs.yml`. The default jobs.yml file shows the format needed for the batch job execution behavior. The option macro controls whether a .yml file is interpretted as a batch scheduler or a single job.\n",
    "\n",
    "-----------------------------------------\n",
    "-----------------------------------------\n",
    "\n",
    "**For use, follow these steps:**\n",
    "\n",
    "1) From the ForLL folder, copy your `config.yml` and paste it directly into SETT. This will overwrite the existing config.yml\n",
    "\n",
    "2) Locate “meta” in the `config.yml` and edit as follows:\n"
   ]
  },
  {
   "cell_type": "raw",
   "metadata": {},
   "source": [
    "correctImages: false\n",
    "enhanceImages: false\n",
    "extractSmartNoise: false\n",
    "runModel: false\n",
    "runName: ForLL\n",
    "runSimulation: false\n",
    "saveModel: false\n",
    "saveRun: true\n",
    "trainModel: false\n",
    "validate: true"
   ]
  },
  {
   "cell_type": "markdown",
   "metadata": {},
   "source": [
    "3) Go to “darkflow” in config.yml and edit as follows:"
   ]
  },
  {
   "cell_type": "raw",
   "metadata": {},
   "source": [
    "meta_file: bin/ForLL.meta\n",
    "pb_file: bin/ForLL.pb"
   ]
  },
  {
   "cell_type": "markdown",
   "metadata": {},
   "source": [
    "4) Open the directory `darkflow` in SETT and create a directory labled `bin`\n",
    "\n",
    "5) From ForLL folder, copy ForLL.pb and ForLL.meta into `darkflow/bin`\n",
    "\n",
    "6) Open the directory `mAP` in SETT and copy the `input` directory from your mAP download into mAP directory located in SETT.\n",
    "\n",
    "7) Open validate.py in mAP and edit as follows:\n"
   ]
  },
  {
   "cell_type": "raw",
   "metadata": {},
   "source": [
    "Change:\n",
    "wipeFolder(mAPTruthPath)\n",
    "wipeFolder(mAPDetectionPath)\n",
    "To:\n",
    "flag = input(\"Enter 'yes' to wipe ground-truth and detection-results\")\n",
    "    if flag == \"yes\":\n",
    "        wipeFolder(mAPTruthPath)\n",
    "        wipeFolder(mAPDetectionPath)"
   ]
  },
  {
   "cell_type": "markdown",
   "metadata": {},
   "source": [
    "8) From the `validationData` downloaded earlier, open `validationData\\images\\corrected\\outIMG` and copy all .json files to `SETT\\mAP\\input\\detection-results` and delete any other files in that directory.\n",
    "\n",
    "9) Repeat this process with the .xml files located in `validationData\\annotations\\out`, copying them to `SETT\\mAP\\input\\ground-truth` (and again, delete any other files that were present in this directory).\n",
    "\n",
    "10) Run `python overlord.py config.yml`. Python should start validating. Make sure to press enter and not input ‘yes’ when asked, and results will be outputted to `SETT\\runData\\ForLL`."
   ]
  },
  {
   "cell_type": "markdown",
   "metadata": {},
   "source": [
    "------------------------------------------------------------------------------\n",
    "------------------------------------------------------------------------------\n"
   ]
  },
  {
   "cell_type": "markdown",
   "metadata": {},
   "source": [
    "# Further Exploration and Things to Note\n",
    "\n"
   ]
  },
  {
   "cell_type": "markdown",
   "metadata": {},
   "source": [
    "* Certain files (for example, the `run.txt` script located in SETT\\Darkflow) reference local file paths instead of environment paths (which is an issue because it specifies a users C: directory). This will error out if a different user tries to run the file. The same script also references an external drive (or a mapped network drive), which again may not be reachable by most users. This may have just been included by one user for ease of use, but worth noting."
   ]
  },
  {
   "cell_type": "markdown",
   "metadata": {},
   "source": [
    "* If you want to train your own dataset, it is crucial that you leave the original `tiny-yolo-voc.cfg` file unchanged. When darkflow sees you are loading `tiny-yolo-voc.weights` it will look for `tiny-yolo-voc.cfg` in your cfg/ folder and compare that configuration file to the new one you have set with `--model cfg/tiny-yolo-voc-3c.cfg`. In this case, every layer will have the same exact number of weights except for the last two, so it will load the weights into all layers up to the last two because they now contain different number of weights. (This is all written in the the Darkflow readme file, included with the correct process for training new data using tiny-yolo) "
   ]
  },
  {
   "cell_type": "code",
   "execution_count": null,
   "metadata": {},
   "outputs": [],
   "source": []
  }
 ],
 "metadata": {
  "kernelspec": {
   "display_name": "Python 3",
   "language": "python",
   "name": "python3"
  },
  "language_info": {
   "codemirror_mode": {
    "name": "ipython",
    "version": 3
   },
   "file_extension": ".py",
   "mimetype": "text/x-python",
   "name": "python",
   "nbconvert_exporter": "python",
   "pygments_lexer": "ipython3",
   "version": "3.7.3"
  }
 },
 "nbformat": 4,
 "nbformat_minor": 2
}
